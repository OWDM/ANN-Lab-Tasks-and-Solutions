{
  "nbformat": 4,
  "nbformat_minor": 0,
  "metadata": {
    "colab": {
      "provenance": []
    },
    "kernelspec": {
      "name": "python3",
      "display_name": "Python 3"
    },
    "language_info": {
      "name": "python"
    }
  },
  "cells": [
    {
      "cell_type": "markdown",
      "source": [
        "Q1"
      ],
      "metadata": {
        "id": "N9_vbWbEw7_e"
      }
    },
    {
      "cell_type": "code",
      "source": [
        "import numpy as np\n",
        "\n",
        "def linear_associator(W, p):\n",
        "    a = np.dot(W, p)\n",
        "    return a\n",
        "\n",
        "# Test 1: W1 = [1. 0.], p1 = [[0.5, 0.5], [-0.5, 0.5]]\n",
        "W1 = np.array([1.0, 0.0])\n",
        "p1 = np.array([[0.5, 0.5], [-0.5, 0.5]])\n",
        "\n",
        "a1 = linear_associator(W1, p1)\n",
        "print(\"Output a1:\", a1)\n",
        "\n",
        "# Test 2: W2 = [-1. 0.], p2 = [[0.5,-0.5], [-0.5,-0.5]]\n",
        "W2 = np.array([-1.0, 0.0])\n",
        "p2 = np.array([[0.5, -0.5], [-0.5, -0.5]])\n",
        "\n",
        "a2 = linear_associator(W2, p2)\n",
        "print(\"Output a2:\", a2)\n"
      ],
      "metadata": {
        "colab": {
          "base_uri": "https://localhost:8080/"
        },
        "id": "bgXd5a6yw7DH",
        "outputId": "37b6bc96-aa72-4a6e-f0ce-08e55549a5af"
      },
      "execution_count": 2,
      "outputs": [
        {
          "output_type": "stream",
          "name": "stdout",
          "text": [
            "Output a1: [0.5 0.5]\n",
            "Output a2: [-0.5  0.5]\n"
          ]
        }
      ]
    },
    {
      "cell_type": "markdown",
      "source": [
        "Q2"
      ],
      "metadata": {
        "id": "HPkFv3Hpw5eW"
      }
    },
    {
      "cell_type": "code",
      "source": [
        "import numpy as np\n",
        "\n",
        "def hebb_rule(T, p):\n",
        "    w = np.dot(T, p.T)\n",
        "    return w\n",
        "\n",
        "# Test 1: p1 = [[0.5,0.5], [-0.5 , 0.5]], t1 = [1,1]\n",
        "p1 = np.array([[0.5, 0.5], [-0.5, 0.5]])\n",
        "t1 = np.array([1, 1])\n",
        "\n",
        "w1 = hebb_rule(t1, p1)\n",
        "print(\"Weight matrix W1:\", w1)\n",
        "\n",
        "# Test 2: p2 = [[0.5,-0.5], [-0.5,-0.5]], t2 = [-1,1]\n",
        "p2 = np.array([[0.5, -0.5], [-0.5, -0.5]])\n",
        "t2 = np.array([-1, 1])\n",
        "\n",
        "w2 = hebb_rule(t2, p2)\n",
        "print(\"Weight matrix W2:\", w2)\n"
      ],
      "metadata": {
        "colab": {
          "base_uri": "https://localhost:8080/"
        },
        "id": "6sSsR6TyvYHW",
        "outputId": "5946e0e9-6bf6-45fd-aeab-084083df9c8f"
      },
      "execution_count": 3,
      "outputs": [
        {
          "output_type": "stream",
          "name": "stdout",
          "text": [
            "Weight matrix W1: [1. 0.]\n",
            "Weight matrix W2: [-1.  0.]\n"
          ]
        }
      ]
    },
    {
      "cell_type": "markdown",
      "source": [
        "W1 = t1 * p1.T\n",
        "W1 = [1, 1] * [[0.5, 0.5], [-0.5, 0.5]].T\n",
        "W1 = [1, 1] * [0.5, -0.5]\n",
        "W1 = [0.5, -0.5]\n",
        "\n",
        "W2 = t2 * p2.T\n",
        "W2 = [-1, 1] * [[0.5, -0.5], [-0.5, -0.5]].T\n",
        "W2 = [-1, 1] * [0.5, -0.5]\n",
        "W2 = [-0.5, 0.5]\n",
        "\n"
      ],
      "metadata": {
        "id": "1HbNlyM3wqFP"
      }
    },
    {
      "cell_type": "markdown",
      "source": [
        "Q3"
      ],
      "metadata": {
        "id": "MkCaLNAPvWYZ"
      }
    },
    {
      "cell_type": "code",
      "source": [
        "import numpy as np\n",
        "\n",
        "def check_orthogonal(a, b):\n",
        "    dot_product = np.dot(a, b)\n",
        "    if dot_product == 0:\n",
        "        return True, dot_product\n",
        "    else:\n",
        "        return False, dot_product\n",
        "\n",
        "# Test 1: p1 = [0.5, -0.5, 0.5, -0.5], p2 = [0.5, 0.5, -0.5, -0.5]\n",
        "p1 = np.array([0.5, -0.5, 0.5, -0.5])\n",
        "p2 = np.array([0.5, 0.5, -0.5, -0.5])\n",
        "\n",
        "orthogonality, dot_product = check_orthogonal(p1, p2)\n",
        "print(f\"Are vectors p1 and p2 orthogonal? {orthogonality}. Dot product: {dot_product}\")\n",
        "\n",
        "# Test 2: p1 = [1, -1, -1], p2 = [1, 1, -1]\n",
        "p1 = np.array([1, -1, -1])\n",
        "p2 = np.array([1, 1, -1])\n",
        "\n",
        "orthogonality, dot_product = check_orthogonal(p1, p2)\n",
        "print(f\"Are vectors p1 and p2 orthogonal? {orthogonality}. Dot product: {dot_product}\")\n"
      ],
      "metadata": {
        "colab": {
          "base_uri": "https://localhost:8080/"
        },
        "id": "XhPu2ALFshAV",
        "outputId": "e107c706-cece-43bd-dee7-b2740d3f6466"
      },
      "execution_count": 4,
      "outputs": [
        {
          "output_type": "stream",
          "name": "stdout",
          "text": [
            "Are vectors p1 and p2 orthogonal? True. Dot product: 0.0\n",
            "Are vectors p1 and p2 orthogonal? False. Dot product: 1\n"
          ]
        }
      ]
    },
    {
      "cell_type": "markdown",
      "source": [
        "Q4"
      ],
      "metadata": {
        "id": "HJ7hlyJasbZo"
      }
    },
    {
      "cell_type": "code",
      "source": [
        "import numpy as np\n",
        "\n",
        "def check_unitlength(a):\n",
        "    magnitude = np.linalg.norm(a)\n",
        "    if magnitude == 1:\n",
        "        return True, magnitude\n",
        "    else:\n",
        "        return False, magnitude\n",
        "\n",
        "p1 = np.array([1, -1, -1])\n",
        "unit_length, magnitude = check_unitlength(p1)\n",
        "print(f\"Is p1 of unit length? {unit_length}. Magnitude: {magnitude}\")\n",
        "\n",
        "# Manually calculate the magnitude of p1 using a loop\n",
        "magnitude_manual = 0\n",
        "for element in p1:\n",
        "    magnitude_manual += element * element\n",
        "magnitude_manual = np.sqrt(magnitude_manual)\n",
        "print(\"Manual magnitude of p1:\", magnitude_manual)\n"
      ],
      "metadata": {
        "colab": {
          "base_uri": "https://localhost:8080/"
        },
        "id": "W-aaluwxoReu",
        "outputId": "ecc7a24e-a74f-45e5-c794-aef5c42777a2"
      },
      "execution_count": 8,
      "outputs": [
        {
          "output_type": "stream",
          "name": "stdout",
          "text": [
            "Is p1 of unit length? False. Magnitude: 1.7320508075688772\n",
            "Manual magnitude of p1: 1.7320508075688772\n"
          ]
        }
      ]
    },
    {
      "cell_type": "markdown",
      "source": [
        "Q5"
      ],
      "metadata": {
        "id": "atPI2gSjoOXH"
      }
    },
    {
      "cell_type": "code",
      "source": [
        "import numpy as np\n",
        "\n",
        "def normalizevec(a):\n",
        "    magnitude = np.linalg.norm(a)\n",
        "    if magnitude != 1:\n",
        "        normalized_a = a / magnitude\n",
        "        return normalized_a\n",
        "    else:\n",
        "        return a\n",
        "\n",
        "p1 = np.array([1, -1, -1])\n",
        "normalized_p1 = normalizevec(p1)\n",
        "print(\"Normalized p1:\", normalized_p1)\n"
      ],
      "metadata": {
        "colab": {
          "base_uri": "https://localhost:8080/"
        },
        "id": "L9mQPcIVnlFq",
        "outputId": "f60a964d-285a-4d60-c41b-314108c051d1"
      },
      "execution_count": 6,
      "outputs": [
        {
          "output_type": "stream",
          "name": "stdout",
          "text": [
            "Normalized p1: [ 0.57735027 -0.57735027 -0.57735027]\n"
          ]
        }
      ]
    },
    {
      "cell_type": "markdown",
      "source": [
        "Q6"
      ],
      "metadata": {
        "id": "rGynU4Gvna-Q"
      }
    },
    {
      "cell_type": "code",
      "execution_count": 7,
      "metadata": {
        "colab": {
          "base_uri": "https://localhost:8080/"
        },
        "id": "pprTgmn4N56t",
        "outputId": "4c2d5e91-03b8-4650-ebc7-48fe63705aca"
      },
      "outputs": [
        {
          "output_type": "stream",
          "name": "stdout",
          "text": [
            "Are the vectors orthogonal? False. Dot product: 1\n",
            "Is p1 of unit length? False. Magnitude: 1.7320508075688772\n",
            "Is p2 of unit length? False. Magnitude: 1.7320508075688772\n",
            "Weight matrix W: [0.         1.15470054 0.        ]\n"
          ]
        }
      ],
      "source": [
        "import numpy as np\n",
        "\n",
        "# Define the input vectors\n",
        "p1 = np.array([1, -1, -1])\n",
        "p2 = np.array([1, 1, -1])\n",
        "\n",
        "# Define the target vectors\n",
        "t1 = np.array([-1])\n",
        "t2 = np.array([1])\n",
        "\n",
        "# Check if the input vectors are orthonormal\n",
        "def check_orthogonal(v1, v2):\n",
        "    dot_product = np.dot(v1, v2)\n",
        "    if dot_product == 0:\n",
        "        return True, dot_product\n",
        "    else:\n",
        "        return False, dot_product\n",
        "\n",
        "orthogonality, dot_product = check_orthogonal(p1, p2)\n",
        "print(f\"Are the vectors orthogonal? {orthogonality}. Dot product: {dot_product}\")\n",
        "\n",
        "# Check if the input vectors are of unit length\n",
        "def check_unitlength(v):\n",
        "    magnitude = np.linalg.norm(v)\n",
        "    if magnitude == 1:\n",
        "        return True, magnitude\n",
        "    else:\n",
        "        return False, magnitude\n",
        "\n",
        "unit_length_p1, magnitude_p1 = check_unitlength(p1)\n",
        "print(f\"Is p1 of unit length? {unit_length_p1}. Magnitude: {magnitude_p1}\")\n",
        "\n",
        "unit_length_p2, magnitude_p2 = check_unitlength(p2)\n",
        "print(f\"Is p2 of unit length? {unit_length_p2}. Magnitude: {magnitude_p2}\")\n",
        "\n",
        "# Normalize the input vectors\n",
        "p1_normalized = p1 / np.linalg.norm(p1)\n",
        "p2_normalized = p2 / np.linalg.norm(p2)\n",
        "\n",
        "# Apply Hebb's rule to find W\n",
        "W = t1 * p1_normalized.T + t2 * p2_normalized.T\n",
        "\n",
        "print(\"Weight matrix W:\", W)\n"
      ]
    }
  ]
}