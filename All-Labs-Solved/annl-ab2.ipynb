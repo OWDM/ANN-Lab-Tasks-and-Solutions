{
  "nbformat": 4,
  "nbformat_minor": 0,
  "metadata": {
    "colab": {
      "provenance": []
    },
    "kernelspec": {
      "name": "python3",
      "display_name": "Python 3"
    },
    "language_info": {
      "name": "python"
    }
  },
  "cells": [
    {
      "cell_type": "markdown",
      "source": [
        "Q1"
      ],
      "metadata": {
        "id": "7rR18tNzwR6n"
      }
    },
    {
      "cell_type": "code",
      "execution_count": null,
      "metadata": {
        "id": "AyZktQck2l52"
      },
      "outputs": [],
      "source": [
        "import math\n",
        "\n",
        "\n",
        "def single_input_neuron(p, w, b, f):\n",
        "    # Calculate the weighted sum\n",
        "    wp = p * w\n",
        "\n",
        "    # Calculate the summation output\n",
        "    n = wp + b\n",
        "\n",
        "    # Apply the transfer function\n",
        "    if f == 'hardlim':\n",
        "        a = 1 if n >= 0 else 0\n",
        "    elif f == 'logsigmoid':\n",
        "        a = 1 / (1 + math.exp(-n))\n",
        "    elif f == 'poslin':\n",
        "        a = max(0, n)\n",
        "\n",
        "    return a\n",
        "\n",
        "p = 2\n",
        "w = -1.5\n",
        "b = 3\n",
        "f = 'hardlim'\n",
        "\n",
        "output = single_input_neuron(p, w, b, f)\n",
        "print(output)\n"
      ]
    },
    {
      "cell_type": "markdown",
      "source": [
        "Q2"
      ],
      "metadata": {
        "id": "dD7vIs5ewY5z"
      }
    },
    {
      "cell_type": "code",
      "source": [
        "import numpy as np\n",
        "\n",
        "\n",
        "def multiple_input_neuron(p, w, b, f):\n",
        "    # Calculate the summation output\n",
        "    n = np.dot(w, p) + b\n",
        "\n",
        "    # Apply the transfer function\n",
        "    if f == 'hardlim':\n",
        "        a = np.where(n >= 0, 1, 0)\n",
        "    elif f == 'logsigmoid':\n",
        "        a = 1 / (1 + np.exp(-n))\n",
        "    elif f == 'poslin':\n",
        "        a = np.maximum(0, n)\n",
        "\n",
        "    return a\n",
        "\n",
        "\n",
        "p = np.array([1, 2, 3])\n",
        "w = np.array([4, 5, 6])\n",
        "b = -1.5\n",
        "f = 'poslin'\n",
        "\n",
        "output = multiple_input_neuron(p, w, b, f)\n",
        "print(output)\n"
      ],
      "metadata": {
        "id": "niNQFTk7waPM"
      },
      "execution_count": null,
      "outputs": []
    }
  ]
}