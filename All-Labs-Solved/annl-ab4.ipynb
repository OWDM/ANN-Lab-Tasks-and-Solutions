{
  "metadata": {
    "kernelspec": {
      "name": "python",
      "display_name": "Python (Pyodide)",
      "language": "python"
    },
    "language_info": {
      "codemirror_mode": {
        "name": "python",
        "version": 3
      },
      "file_extension": ".py",
      "mimetype": "text/x-python",
      "name": "python",
      "nbconvert_exporter": "python",
      "pygments_lexer": "ipython3",
      "version": "3.8"
    },
    "colab": {
      "provenance": []
    }
  },
  "nbformat_minor": 0,
  "nbformat": 4,
  "cells": [
    {
      "cell_type": "code",
      "source": [
        "\n",
        "\n",
        "import numpy as np\n",
        "import pandas as pd\n",
        "\n",
        "\n",
        "import os\n",
        "for dirname, _, filenames in os.walk('/kaggle/input'):\n",
        "    for filename in filenames:\n",
        "        print(os.path.join(dirname, filename))\n",
        "\n"
      ],
      "metadata": {
        "_uuid": "8f2839f25d086af736a60e9eeb907d3b93b6e0e5",
        "_cell_guid": "b1076dfc-b9ad-4769-8c92-a6c4dae69d19",
        "tags": [],
        "execution": {
          "iopub.status.busy": "2023-10-09T16:58:05.420682Z",
          "iopub.execute_input": "2023-10-09T16:58:05.421098Z",
          "iopub.status.idle": "2023-10-09T16:58:05.427583Z",
          "shell.execute_reply.started": "2023-10-09T16:58:05.421052Z",
          "shell.execute_reply": "2023-10-09T16:58:05.426521Z"
        },
        "trusted": true,
        "id": "b-V-QzzI-jCg"
      },
      "execution_count": 1,
      "outputs": []
    },
    {
      "cell_type": "code",
      "source": [
        "import numpy as np"
      ],
      "metadata": {
        "tags": [],
        "execution": {
          "iopub.status.busy": "2023-10-09T16:58:05.429791Z",
          "iopub.execute_input": "2023-10-09T16:58:05.430413Z",
          "iopub.status.idle": "2023-10-09T16:58:05.443343Z",
          "shell.execute_reply.started": "2023-10-09T16:58:05.430379Z",
          "shell.execute_reply": "2023-10-09T16:58:05.442549Z"
        },
        "trusted": true,
        "id": "8gyWVhwl-jCh"
      },
      "execution_count": 2,
      "outputs": []
    },
    {
      "cell_type": "code",
      "source": [
        "def hardlim(n):\n",
        "    if n<0:\n",
        "        return 0\n",
        "    else :\n",
        "        return 1"
      ],
      "metadata": {
        "tags": [],
        "execution": {
          "iopub.status.busy": "2023-10-09T16:58:05.444767Z",
          "iopub.execute_input": "2023-10-09T16:58:05.445710Z",
          "iopub.status.idle": "2023-10-09T16:58:05.454770Z",
          "shell.execute_reply.started": "2023-10-09T16:58:05.445680Z",
          "shell.execute_reply": "2023-10-09T16:58:05.453993Z"
        },
        "trusted": true,
        "id": "vdsrpdEo-jCh"
      },
      "execution_count": 3,
      "outputs": []
    },
    {
      "cell_type": "code",
      "source": [
        "def perceptron (w,p,b):\n",
        "    n=np.dot(w,p)+b\n",
        "    return hardlim(n)"
      ],
      "metadata": {
        "tags": [],
        "execution": {
          "iopub.status.busy": "2023-10-09T16:58:05.456108Z",
          "iopub.execute_input": "2023-10-09T16:58:05.456647Z",
          "iopub.status.idle": "2023-10-09T16:58:05.465783Z",
          "shell.execute_reply.started": "2023-10-09T16:58:05.456616Z",
          "shell.execute_reply": "2023-10-09T16:58:05.465202Z"
        },
        "trusted": true,
        "id": "DReHkTa3-jCi"
      },
      "execution_count": 4,
      "outputs": []
    },
    {
      "cell_type": "code",
      "source": [
        "def learning_rule(t,w,p,b,a):\n",
        "    e = t-a\n",
        "    w_new = w + np.dot(e,p.T)\n",
        "    b_new = b + e\n",
        "\n",
        "    return w_new , b_new"
      ],
      "metadata": {
        "tags": [],
        "execution": {
          "iopub.status.busy": "2023-10-09T17:13:31.890055Z",
          "iopub.execute_input": "2023-10-09T17:13:31.890450Z",
          "iopub.status.idle": "2023-10-09T17:13:31.895946Z",
          "shell.execute_reply.started": "2023-10-09T17:13:31.890424Z",
          "shell.execute_reply": "2023-10-09T17:13:31.894853Z"
        },
        "trusted": true,
        "id": "iOfz-Zlk-jCi"
      },
      "execution_count": 5,
      "outputs": []
    },
    {
      "cell_type": "code",
      "source": [
        "p1 = np.array([[-2 , 2]]).T\n",
        "p2 = np.array([[-2 , 0]]).T\n",
        "p3 = np.array([[-2 ,-2]]).T\n",
        "p4 = np.array([[0 , 2]]).T\n",
        "p5 = np.array([[0 , -2]]).T\n",
        "p6 = np.array([[2 , 2]]).T\n",
        "p7 = np.array([[2 , 0]]).T\n",
        "p8 = np.array([[2 , -2]]).T"
      ],
      "metadata": {
        "tags": [],
        "trusted": true,
        "id": "a_1QeKEB-jCi"
      },
      "execution_count": 6,
      "outputs": []
    },
    {
      "cell_type": "code",
      "source": [
        "P = np.array([p1,p2,p3,p4,p5,p6,p7,p8])\n",
        "T = np.array([1,1,1,1,0,0,0,0])"
      ],
      "metadata": {
        "trusted": true,
        "id": "b-D2cAaD-jCi"
      },
      "execution_count": 7,
      "outputs": []
    },
    {
      "cell_type": "code",
      "source": [
        "#t=[1,1,1,1,0,0,0,0]\n",
        "w=[-3.84642654,0.6495313]\n",
        "b=[0.32420616]\n",
        "\n",
        "def perceptron (w,p,b):\n",
        "    n=np.dot(w,p)+b\n",
        "    return hardlim(n)\n",
        "def hardlim(n):\n",
        "    if n<0:\n",
        "        return 0\n",
        "    else :\n",
        "        return 1\n",
        "    count=0\n",
        "    while(count<8):\n",
        "        t=perceptron (w,p[count],b)\n",
        "        print(t)\n",
        "        count+=1"
      ],
      "metadata": {
        "trusted": true,
        "id": "ColpbxMi-jCi"
      },
      "execution_count": 8,
      "outputs": []
    },
    {
      "cell_type": "code",
      "source": [
        "import numpy as np\n",
        "\n",
        "def hardlim(n):\n",
        "    return 0 if n < 0 else 1\n",
        "\n",
        "def perceptron(w, p, b):\n",
        "    n = np.dot(w, p) + b\n",
        "    return hardlim(n)\n",
        "\n",
        "def learning_rule(t, a, w, b, p):\n",
        "    e = t - a\n",
        "    w_new = w + np.dot(e, p)\n",
        "    b_new = b + e\n",
        "    return w_new, b_new, e\n",
        "\n",
        "w = np.array([2, -1])\n",
        "b = 0\n",
        "\n",
        "training_set = [\n",
        "    {'p': np.array([-2, 2]), 't': 1},\n",
        "    {'p': np.array([-2, 0]), 't': 1},\n",
        "    {'p': np.array([-2, -2]), 't': 1},\n",
        "    {'p': np.array([0, 2]), 't': 1},\n",
        "    {'p': np.array([0, -2]), 't': 0},\n",
        "    {'p': np.array([2, 2]), 't': 0},\n",
        "    {'p': np.array([2, 0]), 't': 0},\n",
        "    {'p': np.array([2, -2]), 't': 0},\n",
        "]\n",
        "\n",
        "\n",
        "for i in range(len(training_set)):\n",
        "    p = training_set[i]['p']\n",
        "    t = training_set[i]['t']\n",
        "    a = perceptron(w, p, b)\n",
        "    w, b, e = learning_rule(t, a, w, b, p)\n",
        "\n",
        "    print(f'P {i+1}')\n",
        "    print(f'w = {w}, b = {b},\\nt = {t}, a = {a}, e = {e}')\n",
        "\n",
        "    if a == t:\n",
        "        print(\"Prediction is correct\")\n",
        "    else:\n",
        "        print(\"Prediction is incorrect\")"
      ],
      "metadata": {
        "tags": [],
        "trusted": true,
        "colab": {
          "base_uri": "https://localhost:8080/"
        },
        "id": "-7ydX22l-jCi",
        "outputId": "fd07d411-6b80-4c06-cfd4-fa063189f18f"
      },
      "execution_count": 9,
      "outputs": [
        {
          "output_type": "stream",
          "name": "stdout",
          "text": [
            "P 1\n",
            "w = [0 1], b = 1,\n",
            "t = 1, a = 0, e = 1\n",
            "Prediction is incorrect\n",
            "P 2\n",
            "w = [0 1], b = 1,\n",
            "t = 1, a = 1, e = 0\n",
            "Prediction is correct\n",
            "P 3\n",
            "w = [-2 -1], b = 2,\n",
            "t = 1, a = 0, e = 1\n",
            "Prediction is incorrect\n",
            "P 4\n",
            "w = [-2 -1], b = 2,\n",
            "t = 1, a = 1, e = 0\n",
            "Prediction is correct\n",
            "P 5\n",
            "w = [-2  1], b = 1,\n",
            "t = 0, a = 1, e = -1\n",
            "Prediction is incorrect\n",
            "P 6\n",
            "w = [-2  1], b = 1,\n",
            "t = 0, a = 0, e = 0\n",
            "Prediction is correct\n",
            "P 7\n",
            "w = [-2  1], b = 1,\n",
            "t = 0, a = 0, e = 0\n",
            "Prediction is correct\n",
            "P 8\n",
            "w = [-2  1], b = 1,\n",
            "t = 0, a = 0, e = 0\n",
            "Prediction is correct\n"
          ]
        }
      ]
    },
    {
      "cell_type": "code",
      "source": [
        "import numpy as np\n",
        "import matplotlib.pyplot as plt\n",
        "\n",
        "def plot_decision_boundary(w, b):\n",
        "    x = np.linspace(-3, 3, 100)\n",
        "    y = (-w[0] / w[1]) * x - (b / w[1])\n",
        "    plt.plot(x, y, 'r-', label='Decision Boundary')\n",
        "\n",
        "def plot_training_data(training_set):\n",
        "    for data in training_set:\n",
        "        p = data['p']\n",
        "        t = data['t']\n",
        "        color = 'ro' if t == 1 else 'bo'\n",
        "        plt.plot(p[0], p[1], color)\n",
        "\n",
        "w = np.array([2, -1])\n",
        "b = 0\n",
        "\n",
        "training_set = [\n",
        "    {'p': np.array([-2, 2]), 't': 1},\n",
        "    {'p': np.array([-2, 0]), 't': 1},\n",
        "    {'p': np.array([-2, -2]), 't': 1},\n",
        "    {'p': np.array([0, 2]), 't': 1},\n",
        "    {'p': np.array([0, -2]), 't': 0},\n",
        "    {'p': np.array([2, 2]), 't': 0},\n",
        "    {'p': np.array([2, 0]), 't': 0},\n",
        "    {'p': np.array([2, -2]), 't': 0},\n",
        "]\n",
        "\n",
        "# Plot decision boundary\n",
        "plot_decision_boundary(w, b)\n",
        "\n",
        "# Plot  training data points\n",
        "plot_training_data(training_set)\n",
        "\n",
        "# Set plot limits and labels\n",
        "plt.xlim(-3, 3)\n",
        "plt.ylim(-3, 3)\n",
        "plt.xlabel('x')\n",
        "plt.ylabel('y')\n",
        "\n",
        "\n",
        "plt.legend()\n",
        "plt.show()"
      ],
      "metadata": {
        "tags": [],
        "trusted": true,
        "colab": {
          "base_uri": "https://localhost:8080/",
          "height": 455
        },
        "id": "p4kXR2q_-jCj",
        "outputId": "bcf84d01-4a9c-4511-ddbf-3cace2b5be95"
      },
      "execution_count": 10,
      "outputs": [
        {
          "output_type": "display_data",
          "data": {
            "text/plain": [
              "<Figure size 640x480 with 1 Axes>"
            ],
            "image/png": "[encoded data removed]"
          },
          "metadata": {}
        }
      ]
    },
    {
      "cell_type": "code",
      "source": [
        "import numpy as np\n",
        "\n",
        "def hardlim(n):\n",
        "    return 0 if n < 0 else 1\n",
        "\n",
        "def perceptron(w, p, b):\n",
        "    n = np.dot(w, p) + b\n",
        "    return hardlim(n)\n",
        "\n",
        "w = np.array([-2, -1])\n",
        "b = 1\n",
        "\n",
        "red_data_point = np.array([-1, 2])\n",
        "\n",
        "predicted_class = perceptron(w, red_data_point, b)\n",
        "\n",
        "prediction_message = \"Prediction is correct.\" if predicted_class == 1 else \"Prediction is incorrect.\"\n",
        "print(f\"The red data point is predicted to be in class {predicted_class}. {prediction_message}\")"
      ],
      "metadata": {
        "execution": {
          "iopub.status.busy": "2023-10-10T18:35:27.420744Z",
          "iopub.execute_input": "2023-10-10T18:35:27.421161Z",
          "iopub.status.idle": "2023-10-10T18:35:27.429596Z",
          "shell.execute_reply.started": "2023-10-10T18:35:27.421130Z",
          "shell.execute_reply": "2023-10-10T18:35:27.428126Z"
        },
        "trusted": true,
        "colab": {
          "base_uri": "https://localhost:8080/"
        },
        "id": "M0H5tAlD-jCj",
        "outputId": "f8c6aba1-2085-47b4-c069-7bae64a3ad03"
      },
      "execution_count": 11,
      "outputs": [
        {
          "output_type": "stream",
          "name": "stdout",
          "text": [
            "The red data point is predicted to be in class 1. Prediction is correct.\n"
          ]
        }
      ]
    },
    {
      "cell_type": "code",
      "source": [
        "#Rerun your code, and draw the new decision boundary. Do you get the same results? Why. [0.25]\n",
        "\n",
        "#Yes , because the decision boundary supposed to delireates the boundaries of classes\n",
        "\n",
        "#------------------------------------------------------------------------------------------------------------\n",
        "\n",
        "#Predict the class of the red data point below using your model. Do you think the class is predicted\n",
        "#correctly? [0.25]\n",
        "\n",
        "\n",
        "#-the point it’s belong to the black set.\n",
        "#The class supposeds to predict it correctly.\n",
        "\n"
      ],
      "metadata": {
        "id": "qLIV8rsY-jCj"
      },
      "execution_count": 14,
      "outputs": []
    }
  ]
}